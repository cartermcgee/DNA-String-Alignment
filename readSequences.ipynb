{
  "nbformat": 4,
  "nbformat_minor": 0,
  "metadata": {
    "colab": {
      "name": "readSequences.ipynb",
      "provenance": [],
      "collapsed_sections": [],
      "toc_visible": true
    },
    "kernelspec": {
      "name": "python3",
      "display_name": "Python 3"
    }
  },
  "cells": [
    {
      "cell_type": "code",
      "metadata": {
        "id": "RGzmFQVH5P8z",
        "outputId": "62ab4e03-207a-4011-ff91-4de741803191",
        "colab": {
          "base_uri": "https://localhost:8080/",
          "height": 35
        }
      },
      "source": [
        "from google.colab import drive\n",
        "drive.mount('/content/drive')"
      ],
      "execution_count": 1,
      "outputs": [
        {
          "output_type": "stream",
          "text": [
            "Mounted at /content/drive\n"
          ],
          "name": "stdout"
        }
      ]
    },
    {
      "cell_type": "code",
      "metadata": {
        "id": "kiF7NGNj5Ph-"
      },
      "source": [
        "import time\n",
        "import matplotlib.pyplot as plt\n",
        "import random\n",
        "from scipy import stats\n",
        "import numpy as np\n",
        "import string"
      ],
      "execution_count": 2,
      "outputs": []
    },
    {
      "cell_type": "code",
      "metadata": {
        "id": "LPB7GuTbzlh4",
        "cellView": "both"
      },
      "source": [
        "#@title\n",
        "path = \"/content/drive/My Drive/\"\n",
        "fileName = \"covid_DNA.fasta\"\n",
        "\n",
        "import numpy as np\n",
        "import time\n",
        "import matplotlib.pyplot as plt\n",
        "\n"
      ],
      "execution_count": 3,
      "outputs": []
    },
    {
      "cell_type": "code",
      "metadata": {
        "id": "d2E0h8SFYf9w"
      },
      "source": [
        "def read_fasta(howMany = 10):\n",
        "    # The first line in a FASTA record is the title line.\n",
        "    # Examples:\n",
        "    # >third sequence record\n",
        "    # >gi|2765657|emb|Z78532.1|CCZ78532 C.californicum 5.8S rRNA gene\n",
        "    # returns a list of sequences as tuples (name.)\n",
        "    with open(path + fileName,  'r') as filePt:\n",
        "        sequences = []\n",
        "        fastas = filePt.read().split(\">\")\n",
        "        fastas = fastas[1:]\n",
        "        for i in range(0,howMany):\n",
        "            seq = fastas[i].split(\"\\n\")\n",
        "            seq_name = seq[0]\n",
        "            fasta_seq = \"\".join(seq[1:])\n",
        "            sequences.append((seq_name,fasta_seq))\n",
        "        return sequences"
      ],
      "execution_count": 4,
      "outputs": []
    },
    {
      "cell_type": "code",
      "metadata": {
        "id": "mdh6l2c5mdmO"
      },
      "source": [
        "##Calculates the time taken by each function call and generates graph\n",
        "def timeProblems(problemList, function, init = None, fit = 'exponential'):\n",
        "  #problemList is a list of tuples [(size, arguments),...] ordered smallest to biggest\n",
        "  #runs and times the function with each arguments a\n",
        "  #generates a graph of run time as a function of problem size\n",
        "  # fit may be 'exponential' then the time as a function of problem size is assumed\n",
        "  #     to of the form time = c * a^n and the function solves for c and a\n",
        "  #     where a is the base of the exponential function and c is a multiplicative factor\n",
        "  # fit my be 'polynomial' then the time as a function of problem size is assumed\n",
        "  #     to of the form time = c * n ^ b and the function solves for c and b \n",
        "  #     where b is the power of n (the degree of the polynomial) and c is a multiplicative fac* tor\n",
        "    timeLine = []\n",
        "    values = []\n",
        "    for (size, args) in problemList:\n",
        "      start_time = time.time()\n",
        "      function(*args) #use the * to unpack the tuple into arguments to the function\n",
        "      elapsed = (time.time() - start_time)*1000.0\n",
        "      if elapsed > 0.0:\n",
        "        timeLine.append(elapsed)\n",
        "        values.append(size)\n",
        "    ##Generating the plot between time taken by each function call with n as variable and n\n",
        "    plt.plot(values, timeLine, 'g')\n",
        "    plt.xlabel(\"Problem size\")\n",
        "    plt.yscale('log')\n",
        "    if fit == 'polynomial':\n",
        "      plt.xscale('log')\n",
        "    plt.ylabel(\"time in milliseconds\")\n",
        "    plt.rcParams[\"figure.figsize\"] = [16,9]\n",
        "    plt.show()\n",
        "    if fit == 'exponential': #fit a straight line to n and log time\n",
        "        slope, intercept, _, _, _ = stats.linregress([values], [np.log(t) for t in timeLine])\n",
        "        print(\"time = %.6f * %.3f ^ n\" % (np.exp(intercept), np.exp(slope)))\n",
        "    elif fit == 'polynomial': # fit a straight line to log n and log time\n",
        "        slope, intercept, _, _, _ = stats.linregress([np.log(v) for v in values], [np.log(t) for t in timeLine])\n",
        "        print(\"time = %.6f * n ^ %.3f\" % (np.exp(intercept), slope))"
      ],
      "execution_count": 5,
      "outputs": []
    },
    {
      "cell_type": "code",
      "metadata": {
        "id": "4JAZ_aLIRjSZ"
      },
      "source": [
        "score = {\n",
        "    ('A', 'A'): 5,\n",
        "    ('A', 'C'): -1,\n",
        "    ('A', 'G'): -2,\n",
        "    ('A', 'T'): -1,\n",
        "    ('A', '-'): -3,\n",
        "    ('C', 'A'): -1,\n",
        "    ('C', 'C'): 5,\n",
        "    ('C', 'G'): -3,\n",
        "    ('C', 'T'): -2,\n",
        "    ('C', '-'): -4,\n",
        "    ('G', 'A'): -2,\n",
        "    ('G', 'C'): -3,\n",
        "    ('G', 'G'): 5,\n",
        "    ('G', 'T'): -2,\n",
        "    ('G', '-'): -2,\n",
        "    ('T', 'A'): -1,\n",
        "    ('T', 'C'): -2,\n",
        "    ('T', 'G'): -2,\n",
        "    ('T', 'T'): 5,\n",
        "    ('T', '-'): -1,\n",
        "    ('-', 'A'): -3,\n",
        "    ('-', 'C'): -4,\n",
        "    ('-', 'G'): -2,\n",
        "    ('-', 'T'): -1,\n",
        "    ('_', '-'): 0,\n",
        "    ('-', '_'): 0\n",
        "}"
      ],
      "execution_count": 6,
      "outputs": []
    },
    {
      "cell_type": "markdown",
      "metadata": {
        "id": "_fIXXfQga0gq"
      },
      "source": [
        "DNA Alignment DP Algorithm"
      ]
    },
    {
      "cell_type": "code",
      "metadata": {
        "id": "NDdPQRilRlfE"
      },
      "source": [
        "def matchSequencesDP(A, B):\n",
        "    n = len(A)\n",
        "    m = len(B)\n",
        "    global cache\n",
        "    cache = np.empty(shape=(n+1, m+1))\n",
        "    A = '_' + A\n",
        "    B = '_' + B\n",
        "    for i in range(0, m+1):\n",
        "      cache[0][i] = score[(B[i], '-')]\n",
        "    for j in range(0, n+1):\n",
        "      cache[j][0] = score[('-', A[j])]\n",
        "    for i in range(1, m+1):\n",
        "      for j in range(1, n+1):\n",
        "        cache[j][i] = max(cache[j-1][i] + score[(A[j], '-')], cache[j][i-1] + score[('-', B[i])], cache[j-1][i-1] + score[(A[j], B[i])])\n",
        "    return cache[n][m]"
      ],
      "execution_count": 7,
      "outputs": []
    },
    {
      "cell_type": "markdown",
      "metadata": {
        "id": "MdMKLaCE58CD"
      },
      "source": [
        "Traceback routines (recursive and iterative)"
      ]
    },
    {
      "cell_type": "code",
      "metadata": {
        "id": "sXP_vVPxdmSW"
      },
      "source": [
        "def traceback_recursive(n,m):\n",
        "    if n == 0 and m == 0:\n",
        "      return []\n",
        "    if n == 0: # delete from A\n",
        "      return [\"%s - %s\" % ('_', B[m-1])] + traceback_recursive(n, m-1)\n",
        "    if m == 0: # delete from B\n",
        "      return [\"%s - %s\" % (A[n-1], '_')] + traceback_recursive(n-1, m)\n",
        "    # find alignment solution\n",
        "    sol = cache[(n, m)]\n",
        "    if sol == cache[n-1][m] + score[(A[n-1], '-')]: # delete from B\n",
        "      return [\"%s - %s\" % (A[n-1], '_')] + traceback_recursive(n-1, m)\n",
        "    if sol == cache[n][m-1] + score[('-', B[m-1])]: # delete from A\n",
        "      return [\"%s - %s\" % ('_', B[m-1])] + traceback_recursive(n, m-1)\n",
        "    if sol == cache[n-1][m-1] + score[(A[n-1], B[m-1])]: # match\n",
        "      return [\"%s - %s\" % (A[n-1], B[m-1])] + traceback_recursive(n-1, m-1)\n",
        "\n",
        "def traceback_iterative(n,m):\n",
        "    # set up local variable to hold solution\n",
        "    align = []\n",
        "    # start the traceback\n",
        "    while True:\n",
        "      if n == 0 and m == 0:\n",
        "        return align\n",
        "      if n == 0: # delete from A\n",
        "        align += [\"%s - %s\" % ('_', B[m-1])]\n",
        "        m = m -1\n",
        "        continue\n",
        "      if m == 0: # delete from B\n",
        "        align += [\"%s - %s\" % (A[n-1], '_')]\n",
        "        n = n-1\n",
        "        continue\n",
        "      sol = cache[(n, m)]\n",
        "      if sol == cache[n-1][m] + score[(A[n-1], '-')]: # delete from B\n",
        "        align += [\"%s - %s\" % (A[n-1], '_')]\n",
        "        n = n-1\n",
        "        continue\n",
        "      if sol == cache[n][m-1] + score[('-', B[m-1])]: # delete from A\n",
        "        align += [\"%s - %s\" % ('_', B[m-1])]\n",
        "        m = m-1\n",
        "        continue\n",
        "      if sol == cache[n-1][m-1] + score[(A[n-1], B[m-1])]: # match\n",
        "        align += [\"%s - %s\" % (A[n-1], B[m-1])]\n",
        "        n = n-1\n",
        "        m = m-1\n"
      ],
      "execution_count": 8,
      "outputs": []
    },
    {
      "cell_type": "code",
      "metadata": {
        "id": "hFQHL9wVoLZK"
      },
      "source": [
        "# prints alignment\n",
        "def print_align(align = []):\n",
        "    n = len(align)\n",
        "    for i in range(n-1, 0, -1):\n",
        "      print(align[i])\n",
        "\n",
        "# cleans dna/rna sequences of irregularities\n",
        "def clean_data(sequence):\n",
        "  for i in range(0, len(sequence)):\n",
        "    if sequence[i] != 'A' and sequence[i] != 'T' and sequence[i] != 'C' and sequence[i] != 'G':\n",
        "      sequence[i] = 'T'\n",
        "  return sequence"
      ],
      "execution_count": 9,
      "outputs": []
    },
    {
      "cell_type": "code",
      "metadata": {
        "id": "bIjZjwD3a79A",
        "outputId": "181dd41f-a6b5-46da-fff3-2a1500138406",
        "colab": {
          "base_uri": "https://localhost:8080/",
          "height": 495
        }
      },
      "source": [
        "# code to test match and traceback functions\n",
        "A = 'AGATTCAATGG'\n",
        "B = 'AGTTCAATTGG'\n",
        "print('score: ')\n",
        "print(matchSequencesDP(A, B))\n",
        "print('iterative: ')\n",
        "print_align(traceback_iterative(len(A), len(B)))\n",
        "print('recursive: ')\n",
        "print_align(traceback_recursive(len(A), len(B)))\n"
      ],
      "execution_count": 10,
      "outputs": [
        {
          "output_type": "stream",
          "text": [
            "score: \n",
            "46.0\n",
            "iterative: \n",
            "A - A\n",
            "G - G\n",
            "A - _\n",
            "T - T\n",
            "T - T\n",
            "C - C\n",
            "A - A\n",
            "A - A\n",
            "T - T\n",
            "_ - T\n",
            "G - G\n",
            "recursive: \n",
            "A - A\n",
            "G - G\n",
            "A - _\n",
            "T - T\n",
            "T - T\n",
            "C - C\n",
            "A - A\n",
            "A - A\n",
            "T - T\n",
            "_ - T\n",
            "G - G\n"
          ],
          "name": "stdout"
        }
      ]
    },
    {
      "cell_type": "markdown",
      "metadata": {
        "id": "MQxS7_jJ6W0y"
      },
      "source": [
        "---\n",
        "Real Sequence Testing"
      ]
    },
    {
      "cell_type": "code",
      "metadata": {
        "id": "3kykPPue6WbN",
        "outputId": "3f01cf73-98c9-4e7d-afc0-593c7a8167e3",
        "colab": {
          "base_uri": "https://localhost:8080/",
          "height": 518
        }
      },
      "source": [
        "seq = read_fasta()\n",
        "(A_name, A) = seq[0]\n",
        "(B_name, B) = seq[1]\n",
        "A = clean_data(A[:10000])\n",
        "B = clean_data(B[:10000])\n",
        "problems = [(i, (A[:i], B[:i])) for i in range(1, 10001, 1000)]\n",
        "timeProblems(problems, matchSequencesDP, fit='polynomial')"
      ],
      "execution_count": 15,
      "outputs": [
        {
          "output_type": "display_data",
          "data": {
            "image/png": "[encoded data removed]",
            "text/plain": [
              "<Figure size 1152x648 with 1 Axes>"
            ]
          },
          "metadata": {
            "tags": [],
            "needs_background": "light"
          }
        },
        {
          "output_type": "stream",
          "text": [
            "time = 0.336952 * n ^ 1.443\n"
          ],
          "name": "stdout"
        }
      ]
    },
    {
      "cell_type": "markdown",
      "metadata": {
        "id": "O52zEyeKbsCB"
      },
      "source": [
        "Time equation: time = 0.336952 * n ^ 1.443\n",
        "\n",
        "\n",
        "> Estimated time for problem size 30,000: 16 minutes\n",
        "\n",
        "> Actual time for problem size 30,000: 23 minutes\n",
        "\n",
        "The runtime grows with the square of the sequence length because as the sequence length n increases the size of our cache (n by n) increases to n^2\n"
      ]
    },
    {
      "cell_type": "markdown",
      "metadata": {
        "id": "ZR3l7OsdWteR"
      },
      "source": [
        "---\n",
        "Compare 5 sequences"
      ]
    },
    {
      "cell_type": "code",
      "metadata": {
        "id": "dGrLzkq4WsyG",
        "outputId": "204cbc33-8f04-408a-8502-e96deb8de69f",
        "colab": {
          "base_uri": "https://localhost:8080/",
          "height": 127
        }
      },
      "source": [
        "seq = read_fasta()\n",
        "(A_name, A) = seq[0]\n",
        "(B_name, B) = seq[1]\n",
        "(C_name, C) = seq[2]\n",
        "(D_name, D) = seq[3]\n",
        "(E_name, E) = seq[4]\n",
        "\n",
        "A = clean_data(A[:10000])\n",
        "B = clean_data(B[:10000])\n",
        "C = clean_data(C[:10000])\n",
        "D = clean_data(D[:10000])\n",
        "E = clean_data(E[:10000])\n",
        "\n",
        "a_b = matchSequencesDP(A[:5000], B[:5000])\n",
        "a_c = matchSequencesDP(A[:5000], C[:5000])\n",
        "a_d = matchSequencesDP(A[:5000], D[:5000])\n",
        "a_e = matchSequencesDP(A[:5000], E[:5000])\n",
        "b_c = matchSequencesDP(B[:5000], C[:5000])\n",
        "b_d = matchSequencesDP(B[:5000], D[:5000])\n",
        "b_e = matchSequencesDP(B[:5000], E[:5000])\n",
        "c_d = matchSequencesDP(C[:5000], D[:5000])\n",
        "c_e = matchSequencesDP(C[:5000], E[:5000])\n",
        "d_e = matchSequencesDP(D[:5000], E[:5000])\n",
        "\n",
        "titles = ['A', 'B', 'C', 'D', 'E']\n",
        "data = [['-', a_b, a_c, a_d, a_e],\n",
        "        [a_b, '-', b_c, b_d, b_e],\n",
        "        [a_c, b_c, '-', c_d, c_e],\n",
        "        [a_d, b_d, c_d, '-', d_e],\n",
        "        [a_e, b_e, c_e, d_e, '-']]\n",
        "format_row = \"{:>12}\" * (len(titles) + 1)\n",
        "print(format_row.format(\"\", *titles))\n",
        "for sequence, row in zip(titles, data):\n",
        "  print(format_row.format(sequence, *row))"
      ],
      "execution_count": 14,
      "outputs": [
        {
          "output_type": "stream",
          "text": [
            "                       A           B           C           D           E\n",
            "           A           -     24658.0     24619.0     24713.0     24963.0\n",
            "           B     24658.0           -     24960.0     24928.0     24680.0\n",
            "           C     24619.0     24960.0           -     24889.0     24641.0\n",
            "           D     24713.0     24928.0     24889.0           -     24749.0\n",
            "           E     24963.0     24680.0     24641.0     24749.0           -\n"
          ],
          "name": "stdout"
        }
      ]
    },
    {
      "cell_type": "markdown",
      "metadata": {
        "id": "i4rnyrD6Xk9c"
      },
      "source": [
        "---\n",
        "Full Sequence alignment"
      ]
    },
    {
      "cell_type": "code",
      "metadata": {
        "id": "ZUi1DMsUXnmq"
      },
      "source": [
        "seq = read_fasta()\n",
        "(A_name, A) = seq[0]\n",
        "(B_name, B) = seq[1]\n",
        "A = clean_data(A)\n",
        "B = clean_data(B)\n",
        "\n",
        "matchSequencesDP(A,B)\n",
        "f = open(\"full_sequence.txt\", \"x\")\n",
        "write_str = traceback_iterative(len(A), len(B))\n",
        "n = len(write_str)\n",
        "for i in range(n-1, 0, -1):\n",
        "    f.write(write_str[i] + \"\\n\")\n",
        "\n",
        "f.close()"
      ],
      "execution_count": 21,
      "outputs": []
    }
  ]
}